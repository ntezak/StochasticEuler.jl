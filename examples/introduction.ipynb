{
 "cells": [
  {
   "cell_type": "code",
   "execution_count": 1,
   "metadata": {
    "collapsed": false
   },
   "outputs": [],
   "source": [
    "using StochasticEuler\n",
    "using PyPlot\n",
    "PyPlot.plt[:style][:use](\"ggplot\")"
   ]
  },
  {
   "cell_type": "markdown",
   "metadata": {},
   "source": [
    "# Documentation"
   ]
  },
  {
   "cell_type": "code",
   "execution_count": 2,
   "metadata": {
    "collapsed": false
   },
   "outputs": [
    {
     "name": "stdout",
     "output_type": "stream",
     "text": [
      "search: "
     ]
    },
    {
     "data": {
      "text/latex": [
       "\\subsection{ieuler\\_sde()}\n",
       "Solve an SDE using the implicit stochastic euler method and return the states \\texttt{xs} at each point in the time grid \\texttt{ts}. The method also returns the noise increments \\texttt{dWs} for each integration interval. The SDE is assumed to be given by\n",
       "{\\textbackslash}begin\\{align\\}   dx(t) = f(t,x(t)) dt + g(t,x(t)) dW {\\textbackslash}end\\{align\\}\n",
       "where the type of the SDE (Ito/Stratonovich) must be specified as the the first function argument.\n",
       "The sde is passed as a function \\texttt{sde!(t, x, f, gdW, dW, compute_f, compute_gdW)} that writes the drift term of \\texttt{x} at time \\texttt{t} into a vector \\texttt{f} and the diffusion term into a vector \\texttt{gdW}. The noise increments at time \\texttt{t} are passed as a vector \\texttt{dW}. Two additional boolean flags \\texttt{compute_f} and \\texttt{compute_gdW} specify whether to compute \\texttt{f} or \\texttt{gdW} in a given \\texttt{sde!()} call. This allows to save work. The solver also calls \\texttt{sde!} after each success integration step with both \\texttt{compute_f=compute_gdW=false}. The \\texttt{sde!} function can use this as a callback mechanism to carry out useful cleanup work on \\texttt{x} itself before \\texttt{x} is appended to the result.\n",
       "The initial state is \\texttt{x0}. The time grid at which the states are returned is \\texttt{ts}, the maximum stepsize to be used is \\texttt{hmax}.\n",
       "At each time step the method solves the following non-linear system of equations for x(t+h):\n",
       "{\\textbackslash}begin\\{align\\}   x(t+h) == x(t) + [(1-ν) f(t, x(t)) + ν f(t+h, x(t+h))] h + ΔB(x(t),ΔW(t)) {\\textbackslash}end\\{align\\}\n",
       "where the diffusion term is given by:\n",
       "\\begin{verbatim}\n",
       "ΔB(x(t),ΔW) := g(t, x(t)) ΔW                         (for Ito SDEs)\n",
       "ΔB(x(t),ΔW) := (1/2)[g(t, x(t)) + g(t, y(t))] ΔW     (for Stratonovich SDEs)\n",
       "  where y(t) := x(t) + g(t,x(t)) ΔW\n",
       "\\end{verbatim}\n",
       "This is achieved by a damped pseudo-Newton iteration with the initial guess provided by the standard forward Euler step. Optional keyword parameters are:\n",
       "\\begin{itemize}\n",
       "\\item ν: relative weight of start / end-point combination (default ν=.5)\n",
       "\\item κ: damping factor for pseudo-Newton iteration (default κ=.8)\n",
       "\\item ϵ\\_rel: relative error tol. in pseudo-Newton iteration (default ϵ\\_rel=1e-3)\n",
       "\\item max\\_iter: maximum number of Newton iterations (default max\\_iter=5)\n",
       "\\item verbose: print messages (default = true)\n",
       "\\item rng: An AbstractRNG instance to sample the noise increments from\n",
       "\\item seed: A seed for the RNG.\n",
       "\\item verbose: Print status messages (default = false)\n",
       "\\item return\\_metrics: Whether to return integrator metrics\n",
       "\\end{itemize}\n"
      ],
      "text/markdown": [
       "## ieuler_sde()\n",
       "\n",
       "Solve an SDE using the implicit stochastic euler method and return the states `xs` at each point in the time grid `ts`. The method also returns the noise increments `dWs` for each integration interval. The SDE is assumed to be given by\n",
       "\n",
       "\\begin{align}   dx(t) = f(t,x(t)) dt + g(t,x(t)) dW \\end{align}\n",
       "\n",
       "where the type of the SDE (Ito/Stratonovich) must be specified as the the first function argument.\n",
       "\n",
       "The sde is passed as a function `sde!(t, x, f, gdW, dW, compute_f, compute_gdW)` that writes the drift term of `x` at time `t` into a vector `f` and the diffusion term into a vector `gdW`. The noise increments at time `t` are passed as a vector `dW`. Two additional boolean flags `compute_f` and `compute_gdW` specify whether to compute `f` or `gdW` in a given `sde!()` call. This allows to save work. The solver also calls `sde!` after each success integration step with both `compute_f=compute_gdW=false`. The `sde!` function can use this as a callback mechanism to carry out useful cleanup work on `x` itself before `x` is appended to the result.\n",
       "\n",
       "The initial state is `x0`. The time grid at which the states are returned is `ts`, the maximum stepsize to be used is `hmax`.\n",
       "\n",
       "At each time step the method solves the following non-linear system of equations for x(t+h):\n",
       "\n",
       "\\begin{align}   x(t+h) == x(t) + [(1-ν) f(t, x(t)) + ν f(t+h, x(t+h))] h + ΔB(x(t),ΔW(t)) \\end{align}\n",
       "\n",
       "where the diffusion term is given by:\n",
       "\n",
       "```\n",
       "ΔB(x(t),ΔW) := g(t, x(t)) ΔW                         (for Ito SDEs)\n",
       "ΔB(x(t),ΔW) := (1/2)[g(t, x(t)) + g(t, y(t))] ΔW     (for Stratonovich SDEs)\n",
       "  where y(t) := x(t) + g(t,x(t)) ΔW\n",
       "```\n",
       "\n",
       "This is achieved by a damped pseudo-Newton iteration with the initial guess provided by the standard forward Euler step. Optional keyword parameters are:\n",
       "\n",
       "  * ν: relative weight of start / end-point combination (default ν=.5)\n",
       "  * κ: damping factor for pseudo-Newton iteration (default κ=.8)\n",
       "  * ϵ_rel: relative error tol. in pseudo-Newton iteration (default ϵ_rel=1e-3)\n",
       "  * max_iter: maximum number of Newton iterations (default max_iter=5)\n",
       "  * verbose: print messages (default = true)\n",
       "  * rng: An AbstractRNG instance to sample the noise increments from\n",
       "  * seed: A seed for the RNG.\n",
       "  * verbose: Print status messages (default = false)\n",
       "  * return_metrics: Whether to return integrator metrics\n"
      ],
      "text/plain": [
       "## ieuler_sde()\n",
       "\n",
       "Solve an SDE using the implicit stochastic euler method and return the states `xs` at each point in the time grid `ts`. The method also returns the noise increments `dWs` for each integration interval. The SDE is assumed to be given by\n",
       "\n",
       "\\begin{align}   dx(t) = f(t,x(t)) dt + g(t,x(t)) dW \\end{align}\n",
       "\n",
       "where the type of the SDE (Ito/Stratonovich) must be specified as the the first function argument.\n",
       "\n",
       "The sde is passed as a function `sde!(t, x, f, gdW, dW, compute_f, compute_gdW)` that writes the drift term of `x` at time `t` into a vector `f` and the diffusion term into a vector `gdW`. The noise increments at time `t` are passed as a vector `dW`. Two additional boolean flags `compute_f` and `compute_gdW` specify whether to compute `f` or `gdW` in a given `sde!()` call. This allows to save work. The solver also calls `sde!` after each success integration step with both `compute_f=compute_gdW=false`. The `sde!` function can use this as a callback mechanism to carry out useful cleanup work on `x` itself before `x` is appended to the result.\n",
       "\n",
       "The initial state is `x0`. The time grid at which the states are returned is `ts`, the maximum stepsize to be used is `hmax`.\n",
       "\n",
       "At each time step the method solves the following non-linear system of equations for x(t+h):\n",
       "\n",
       "\\begin{align}   x(t+h) == x(t) + [(1-ν) f(t, x(t)) + ν f(t+h, x(t+h))] h + ΔB(x(t),ΔW(t)) \\end{align}\n",
       "\n",
       "where the diffusion term is given by:\n",
       "\n",
       "```\n",
       "ΔB(x(t),ΔW) := g(t, x(t)) ΔW                         (for Ito SDEs)\n",
       "ΔB(x(t),ΔW) := (1/2)[g(t, x(t)) + g(t, y(t))] ΔW     (for Stratonovich SDEs)\n",
       "  where y(t) := x(t) + g(t,x(t)) ΔW\n",
       "```\n",
       "\n",
       "This is achieved by a damped pseudo-Newton iteration with the initial guess provided by the standard forward Euler step. Optional keyword parameters are:\n",
       "\n",
       "  * ν: relative weight of start / end-point combination (default ν=.5)\n",
       "  * κ: damping factor for pseudo-Newton iteration (default κ=.8)\n",
       "  * ϵ_rel: relative error tol. in pseudo-Newton iteration (default ϵ_rel=1e-3)\n",
       "  * max_iter: maximum number of Newton iterations (default max_iter=5)\n",
       "  * verbose: print messages (default = true)\n",
       "  * rng: An AbstractRNG instance to sample the noise increments from\n",
       "  * seed: A seed for the RNG.\n",
       "  * verbose: Print status messages (default = false)\n",
       "  * return_metrics: Whether to return integrator metrics\n"
      ]
     },
     "execution_count": 2,
     "metadata": {},
     "output_type": "execute_result"
    },
    {
     "name": "stdout",
     "output_type": "stream",
     "text": [
      "ieuler_sde ieuler_heun ieuler_mayurama\n",
      "\n"
     ]
    }
   ],
   "source": [
    "?ieuler_sde"
   ]
  },
  {
   "cell_type": "markdown",
   "metadata": {},
   "source": [
    "# Examples\n",
    "## Testcase 1: Ornstein Uhlenbeck"
   ]
  },
  {
   "cell_type": "code",
   "execution_count": null,
   "metadata": {
    "collapsed": false
   },
   "outputs": [],
   "source": [
    "σ = 1.\n",
    "θ = 2.\n",
    "μ = 3.\n",
    "\n",
    "function ornstein_uhlenbeck!(t, x, xdot, gdW, dW, compute_xdot, compute_gdW)\n",
    "    if compute_xdot\n",
    "        xdot[:]=θ*(μ-x[1])\n",
    "    end\n",
    "    if compute_gdW\n",
    "        gdW[1] = σ*dW[1]\n",
    "    end\n",
    "    xdot, gdW\n",
    "end\n",
    "\n",
    "t0=0\n",
    "t1=1.\n",
    "ts = linspace(t0,t1,501)\n",
    "\n",
    "h = .001\n",
    "x0 = [1.]\n",
    "\n",
    "# Since the diffusion coefficient is constant, the Ito and Stratonovich SDEs are identical\n",
    "ts, xs1, dWs = ieuler_heun(ornstein_uhlenbeck!, x0, ts, h, 1)\n",
    "ts, xs2, dWs = ieuler_mayurama(ornstein_uhlenbeck!, x0, ts, h, 1)\n",
    "\n",
    "\n",
    "expmtht = exp(-θ*ts)\n",
    "sol = x0[1] *expmtht - μ*(expmtht-1) +  σ*expmtht .* cumsum([0;dWs']./expmtht);\n",
    "\n",
    "subplot(211)\n",
    "plot(ts, xs1')\n",
    "plot(ts, xs2')\n",
    "plot(ts, sol)\n",
    "ylabel(L\"Solution $x(t)$\")\n",
    "title(\"Ornstein Uhlenbeck Process\")\n",
    "subplot(212)\n",
    "plot(ts, xs1'-sol)\n",
    "plot(ts, xs2'-sol)\n",
    "xlabel(L\"Time $t$\")\n",
    "ylabel(\"Errors\")\n"
   ]
  },
  {
   "cell_type": "markdown",
   "metadata": {},
   "source": [
    "## Testcase 2: General linear SDE"
   ]
  },
  {
   "cell_type": "code",
   "execution_count": null,
   "metadata": {
    "collapsed": false
   },
   "outputs": [],
   "source": [
    "a, b, c, d = [1,2,3,4,7]\n",
    "\n",
    "function linear_sde_ito!(t, x, xdot, gdW, dW, compute_xdot, compute_gdW)\n",
    "    if compute_xdot\n",
    "        xdot[1]=(a*x[1] + c)\n",
    "    end\n",
    "    if compute_gdW\n",
    "        gdW[1] = (b*x[1] + d) * dW[1]\n",
    "    end\n",
    "    xdot, gdW\n",
    "end\n",
    "\n",
    "function linear_sde_strat!(t, x, xdot, gdW, dW, compute_xdot, compute_gdW)\n",
    "    if compute_xdot\n",
    "        xdot[1]=((a-.5*b^2)*x[1] + c - .5*b*d)\n",
    "    end\n",
    "    if compute_gdW\n",
    "        gdW[1] = (b*x[1]+d)*dW[1]\n",
    "    end\n",
    "    xdot, gdW\n",
    "end\n",
    "\n",
    "\n",
    "t0=0\n",
    "t1=1.\n",
    "ts = linspace(t0, t1, 1001)\n",
    "h = 1./(2<<16)\n",
    "x0 = [1.]\n",
    "ts, xs1, dWs, iters1 = ieuler_heun(linear_sde_strat!, x0, ts, h, 1; return_metrics=true, ϵ_rel=1e-10, max_iter=20)\n",
    "ts, xs2, dWs, iters2 = ieuler_mayurama(linear_sde_ito!, x0, ts, h, 1; return_metrics=true, ϵ_rel=1e-10, max_iter=20)\n",
    "\n",
    "dts = diff(ts)\n",
    "dWs = dWs'\n",
    "Φtt0 = exp(cumsum((a-.5*b^2) * dts + b*dWs))\n",
    "xtsol = [x0[1]; Φtt0 .* (x0[1] + cumsum((c) *dts ./ Φtt0)  + cumsum(d * dWs ./ Φtt0))]\n",
    "\n",
    "subplot(211)\n",
    "title(\"General linear SDE\")\n",
    "plot(ts, xs1')\n",
    "plot(ts, xs2')\n",
    "plot(ts, xtsol)\n",
    "ylabel(L\"Solution $x(t)$\")\n",
    "\n",
    "\n",
    "subplot(212)\n",
    "plot(ts, xs1'-xtsol, label=\"Stratonovich\")\n",
    "plot(ts, xs2'-xtsol, label=\"Ito\")\n",
    "legend()\n",
    "xlabel(L\"Time $t$\")\n",
    "ylabel(\"Errors\")\n",
    "\n",
    "\n"
   ]
  },
  {
   "cell_type": "markdown",
   "metadata": {},
   "source": [
    "## Testcase 3: Exponential SDE"
   ]
  },
  {
   "cell_type": "code",
   "execution_count": null,
   "metadata": {
    "collapsed": false,
    "scrolled": false
   },
   "outputs": [],
   "source": [
    "\n",
    "function exp_sde_ito!(t, x, xdot, gdW, dW, compute_xdot, compute_gdW)\n",
    "    if compute_xdot\n",
    "        xdot[1]= -x[1]*(2*log(x[1]) + 1)\n",
    "    end\n",
    "    if compute_gdW\n",
    "        gdW[1] = -2x[1]*sqrt(-log(x[1]))*dW[1]\n",
    "    end\n",
    "    xdot, gdW\n",
    "end\n",
    "\n",
    "function exp_sde_strat!(t, x, xdot, gdW, dW, compute_xdot, compute_gdW)\n",
    "    if compute_xdot\n",
    "        xdot[1]= 0.\n",
    "    end\n",
    "    if compute_gdW\n",
    "        gdW[1] = -2x[1]*sqrt(-log(x[1]))*dW[1]\n",
    "    end\n",
    "    xdot, gdW\n",
    "end\n",
    "\n",
    "t0=0\n",
    "t1=1.\n",
    "ts = linspace(t0, t1, 1001)\n",
    "h = .00001\n",
    "x0 = [.5]\n",
    "\n",
    "ts, xs1, dWs = ieuler_heun(exp_sde_strat!, x0, ts, h, 1; ν=.5)\n",
    "ts, xs2, dWs = ieuler_mayurama(exp_sde_ito!, x0, ts, h, 1; ν=.5)\n",
    "\n",
    "\n",
    "dts = diff(ts)\n",
    "dWs = dWs'\n",
    "Wts = cumsum(dWs)\n",
    "\n",
    "xtsol = [x0[1]; exp(-(Wts + sqrt(-log(x0[1]))).^2)]\n",
    "\n",
    "subplot(211)\n",
    "title(\"Exponential SDE\")\n",
    "plot(ts, xs1')\n",
    "plot(ts, xs2')\n",
    "plot(ts, xtsol)\n",
    "ylabel(L\"Solution $x(t)$\")\n",
    "\n",
    "\n",
    "subplot(212)\n",
    "plot(ts, xs1'-xtsol, label=\"Stratonovich\")\n",
    "plot(ts, xs2'-xtsol, label=\"Ito\")\n",
    "legend(loc=\"lower left\")\n",
    "xlabel(L\"Time $t$\")\n",
    "ylabel(\"Errors\")"
   ]
  },
  {
   "cell_type": "markdown",
   "metadata": {},
   "source": [
    "# Stochastic convergence"
   ]
  },
  {
   "cell_type": "code",
   "execution_count": null,
   "metadata": {
    "collapsed": false
   },
   "outputs": [],
   "source": [
    "?CumulativeNormal"
   ]
  },
  {
   "cell_type": "markdown",
   "metadata": {},
   "source": [
    "## Test the CumulativeNormal RNG"
   ]
  },
  {
   "cell_type": "code",
   "execution_count": null,
   "metadata": {
    "collapsed": false
   },
   "outputs": [],
   "source": [
    "d = 5\n",
    "rng = MersenneTwister()\n",
    "\n",
    "# averages over 2 samples\n",
    "cnrng2 = CumulativeNormal(rng, 2,d)\n",
    "\n",
    "# averages over 4 samples\n",
    "cnrng4 = CumulativeNormal(rng, 4,d)\n",
    "\n",
    "vec = zeros(d)\n",
    "srand(rng, 0)\n",
    "full_grid = hcat([randn(rng, d) for j=1:4]...)\n",
    "srand(rng, 0)\n",
    "half_grid = hcat([randn(cnrng2, d) for j=1:2]...)\n",
    "srand(rng, 0)\n",
    "quarter_grid = hcat([randn!(cnrng4, vec) for j=1:1]...)\n",
    "\n",
    "# Verify that block summing works correctly\n",
    "@assert norm(full_grid * kron(eye(2), ones(2))/sqrt(2) - half_grid) < 10*eps(Float64)\n",
    "@assert norm(full_grid * ones(4)/sqrt(4) - quarter_grid) < 10*eps(Float64)\n",
    "@assert norm(half_grid * ones(2)/sqrt(2) - quarter_grid) < 10*eps(Float64)"
   ]
  },
  {
   "cell_type": "markdown",
   "metadata": {},
   "source": [
    "## Simulate SDE for same stochastic realization at different grid sizes"
   ]
  },
  {
   "cell_type": "code",
   "execution_count": null,
   "metadata": {
    "collapsed": false
   },
   "outputs": [],
   "source": [
    "t0=0\n",
    "t1=1.\n",
    "ts = linspace(t0, t1, 2049)\n",
    "h = 1./(2<<17) \n",
    "x0 = [1.]\n",
    "\n",
    "grid_sizes = [1,2,4,8,16,32,64, 128]\n",
    "\n",
    "d = 1\n",
    "rngs = AbstractRNG[MersenneTwister()]\n",
    "for gs = grid_sizes[2:end]\n",
    "    push!(rngs, CumulativeNormal(rngs[1], gs, d))\n",
    "end\n",
    "\n",
    "seed = 2\n",
    "allxs = zeros(length(ts), length(grid_sizes))\n",
    "alldWs = zeros(length(ts)-1, length(grid_sizes))\n",
    "alliters = zeros(Int64, length(ts)-1, length(grid_sizes))\n",
    "\n",
    "for k=1:length(grid_sizes)\n",
    "    println(\"Grid size: $(grid_sizes[k]*h)\")\n",
    "    @time ts, xs, dWs, iters = ieuler_heun(\n",
    "        linear_sde_strat!, x0, ts, h*grid_sizes[k], 1; \n",
    "        rng=rngs[k], ν=.5, κ=.5, seed=seed, ϵ_rel=1e-10, max_iter=20, return_metrics=true)\n",
    "    allxs[:,k] = xs[:]\n",
    "    alldWs[:,k] = dWs[:]\n",
    "    alliters[:,k] = iters[:]\n",
    "end\n",
    "\n",
    "dWs = alldWs[:,1]\n",
    "dts = diff(ts)\n",
    "\n",
    "Φtt0 = exp(cumsum((a-.5*b^2) * dts + b*dWs))\n",
    "xtsol = [x0[1]; Φtt0 .* (x0[1] + cumsum((c) *dts ./ Φtt0)  + cumsum(d * dWs ./ Φtt0))];\n"
   ]
  },
  {
   "cell_type": "code",
   "execution_count": null,
   "metadata": {
    "collapsed": false,
    "scrolled": false
   },
   "outputs": [],
   "source": [
    "subplot(311)\n",
    "\n",
    "# plot(ts, xs1', label=\"h=$h\")\n",
    "# plot(ts, xs2', label=\"h=$(2h)\")\n",
    "# # plot(ts, xs3', label=\"h=$(3h)\")\n",
    "# plot(ts, xs4', label=\"h=$(4h)\")\n",
    "# plot(ts, xs8', label=\"h=$(8h)\")\n",
    "plot(ts, allxs)\n",
    "plot(ts, xtsol, label=\"exact\")\n",
    "xtsol_wide = sub(xtsol,1:length(xtsol), 1)\n",
    "# legend(loc=\"upper right\")\n",
    "title(\"Convergence test for Linear SDE\")\n",
    "ylabel(L\"Solution $x(t)$\")\n",
    "rel_errs = abs(broadcast((/), allxs, xtsol+eps(Float64)) - 1) \n",
    "\n",
    "subplot(312)\n",
    "semilogy(ts, abs(broadcast((-), allxs, xtsol)))\n",
    "ylabel(\"Absolute error\")\n",
    "\n",
    "subplot(313)\n",
    "semilogy(ts, rel_errs)\n",
    "ylim(1e-5,1)\n",
    "xlabel(L\"Time $t$\")\n",
    "ylabel(\"Relative error\")"
   ]
  },
  {
   "cell_type": "code",
   "execution_count": null,
   "metadata": {
    "collapsed": false
   },
   "outputs": [],
   "source": [
    "loglog(grid_sizes, 2*sum(alliters, 1)')\n",
    "ylabel(\"Number of SDE calls\")\n",
    "xlabel(L\"Step size $h/h_0$\")"
   ]
  }
 ],
 "metadata": {
  "kernelspec": {
   "display_name": "Julia 0.4.3",
   "language": "julia",
   "name": "julia-0.4"
  },
  "language_info": {
   "file_extension": ".jl",
   "mimetype": "application/julia",
   "name": "julia",
   "version": "0.4.3"
  }
 },
 "nbformat": 4,
 "nbformat_minor": 0
}
